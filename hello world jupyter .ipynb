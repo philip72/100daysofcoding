{
 "cells": [
  {
   "cell_type": "code",
   "execution_count": 1,
   "id": "fce6dba9",
   "metadata": {},
   "outputs": [],
   "source": [
    "a = 7\n",
    "b= 9 \n"
   ]
  },
  {
   "cell_type": "code",
   "execution_count": 2,
   "id": "027b4298",
   "metadata": {},
   "outputs": [
    {
     "data": {
      "text/plain": [
       "16"
      ]
     },
     "execution_count": 2,
     "metadata": {},
     "output_type": "execute_result"
    }
   ],
   "source": [
    "a+b"
   ]
  },
  {
   "cell_type": "code",
   "execution_count": null,
   "id": "127f7d34",
   "metadata": {},
   "outputs": [],
   "source": [
    "# command mode : blue mode\n",
    "#edit mode : green mode\n",
    "# command mode  pres or click \n",
    "\n",
    "#CTRL + Enter can be used to run or execute  whole chunk of code  but it will \n",
    "#not  add or move to the  next cell\n",
    "# shift enter will execute the code and move to the cell\n",
    "# add cell above  use a if below use b  but be in command mode \n",
    "#dd can be sued to delete a cell only in command code "
   ]
  },
  {
   "cell_type": "code",
   "execution_count": 3,
   "id": "534b2209",
   "metadata": {},
   "outputs": [
    {
     "name": "stdout",
     "output_type": "stream",
     "text": [
      "this is my second line \n"
     ]
    }
   ],
   "source": [
    "print (\"this is my second line \")"
   ]
  },
  {
   "cell_type": "code",
   "execution_count": null,
   "id": "68b32a05",
   "metadata": {},
   "outputs": [],
   "source": []
  }
 ],
 "metadata": {
  "kernelspec": {
   "display_name": "Python 3 (ipykernel)",
   "language": "python",
   "name": "python3"
  },
  "language_info": {
   "codemirror_mode": {
    "name": "ipython",
    "version": 3
   },
   "file_extension": ".py",
   "mimetype": "text/x-python",
   "name": "python",
   "nbconvert_exporter": "python",
   "pygments_lexer": "ipython3",
   "version": "3.9.12"
  }
 },
 "nbformat": 4,
 "nbformat_minor": 5
}
