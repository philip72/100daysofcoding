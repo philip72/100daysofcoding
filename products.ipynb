{
 "cells": [
  {
   "cell_type": "code",
   "execution_count": 2,
   "id": "1c0217be",
   "metadata": {},
   "outputs": [],
   "source": [
    "import requests\n",
    "from bs4 import BeautifulSoup\n",
    "import pandas as pd\n",
    "import numpy as np \n",
    "import time \n",
    "from random import  randint"
   ]
  },
  {
   "cell_type": "code",
   "execution_count": null,
   "id": "abf71a95",
   "metadata": {},
   "outputs": [],
   "source": [
    "\n",
    "#function to extract title\n",
    "def get_title(soup):\n",
    "    #outer tag\n",
    "    try:\n",
    "        title= soup.find(\"h1\", attrs={'class':\"-fs20 -pts -pbxs\"})\n",
    "\n",
    "        #convert it to text \n",
    "        title_value= title.text\n",
    "\n",
    "        #remove spaces\n",
    "        title_string=title_value.strip()\n",
    "    except AttributeError:\n",
    "        title_string=\"Not found\"\n",
    "    return title_string\n",
    "def get_price(soup):\n",
    "    try:\n",
    "        price= soup.find(\"span\", attrs={'class':\"-b -ltr -tal -fs24\"}).text.strip()\n",
    "    except AttributeError:\n",
    "        price=\"error\"\n",
    "    return price\n",
    "def get_rating(soup):\n",
    "    try:\n",
    "        rating=soup.find(\"div\", attrs={'class':\"stars _s _al\"}).text.strip()\n",
    "    except AttributeError:\n",
    "        rating=\"error\"\n",
    "    return rating"
   ]
  },
  {
   "cell_type": "code",
   "execution_count": 4,
   "id": "d31b4054",
   "metadata": {},
   "outputs": [],
   "source": [
    "#user agent\n",
    "HEADERS= ({'User-Agent':'Mozilla/5.0 (Windows NT 10.0; Win64; x64) AppleWebKit/537.36 (KHTML, like Gecko) Chrome/107.0.0.0 Safari/537.36','Accept-Language':'en-US, en;q=0.5'})\n",
    "    "
   ]
  },
  {
   "cell_type": "code",
   "execution_count": 5,
   "id": "151c5b93",
   "metadata": {},
   "outputs": [],
   "source": [
    "phone_name=[]\n",
    "price=[]\n",
    "rating=[]\n"
   ]
  },
  {
   "cell_type": "code",
   "execution_count": null,
   "id": "663a05a2",
   "metadata": {},
   "outputs": [],
   "source": []
  }
 ],
 "metadata": {
  "kernelspec": {
   "display_name": "Python 3 (ipykernel)",
   "language": "python",
   "name": "python3"
  },
  "language_info": {
   "codemirror_mode": {
    "name": "ipython",
    "version": 3
   },
   "file_extension": ".py",
   "mimetype": "text/x-python",
   "name": "python",
   "nbconvert_exporter": "python",
   "pygments_lexer": "ipython3",
   "version": "3.9.12"
  }
 },
 "nbformat": 4,
 "nbformat_minor": 5
}
