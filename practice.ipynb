{
 "cells": [
  {
   "cell_type": "markdown",
   "id": "7d97003c",
   "metadata": {},
   "source": [
    "In this lesson, you will learn the basics of Python and you will write your first Python program:\n",
    "\n",
    "Demonstrate an understanding of types in python by converting/casting data types: strings, floats, integers.\n",
    "Interpret variables and solve expressions by applying mathematical operations."
   ]
  },
  {
   "cell_type": "markdown",
   "id": "8a635ec3",
   "metadata": {},
   "source": [
    "type  casting int(1.0)= 1\n"
   ]
  },
  {
   "cell_type": "code",
   "execution_count": null,
   "id": "a4ee784b",
   "metadata": {},
   "outputs": [],
   "source": [
    "x=11//2"
   ]
  },
  {
   "cell_type": "code",
   "execution_count": null,
   "id": "ed02f6e0",
   "metadata": {},
   "outputs": [],
   "source": [
    "x"
   ]
  },
  {
   "cell_type": "code",
   "execution_count": null,
   "id": "0efa1649",
   "metadata": {},
   "outputs": [],
   "source": [
    "name=\"michael jackson\"\n",
    "name"
   ]
  },
  {
   "cell_type": "code",
   "execution_count": null,
   "id": "59ec7887",
   "metadata": {},
   "outputs": [],
   "source": [
    "name[0:3]"
   ]
  },
  {
   "cell_type": "code",
   "execution_count": null,
   "id": "73e4693d",
   "metadata": {},
   "outputs": [],
   "source": [
    "name[-1]"
   ]
  },
  {
   "cell_type": "code",
   "execution_count": null,
   "id": "6a15da39",
   "metadata": {},
   "outputs": [],
   "source": [
    "print(\"AB\\nC\\nDE\")"
   ]
  },
  {
   "cell_type": "code",
   "execution_count": null,
   "id": "8388c75f",
   "metadata": {},
   "outputs": [],
   "source": [
    "\"hello Mike\".find(\"Mike\")"
   ]
  },
  {
   "cell_type": "markdown",
   "id": "cff24a71",
   "metadata": {},
   "source": [
    "Learning Objectives\n",
    "In this lesson you will:\n",
    "Understand tuples and lists by describing and manipulating tuple combinations and list data structures.\n",
    "Demonstrate understanding of dictionaries by writing structures with correct keys and values.\n",
    "Understand the differences between sets, tuples, and lists by creating sets."
   ]
  },
  {
   "cell_type": "markdown",
   "id": "e569d5f4",
   "metadata": {},
   "source": [
    "tuples have paranthesis () and ordered tuple1= (\"disco\", 1,1.2) tuples are immutable "
   ]
  },
  {
   "cell_type": "code",
   "execution_count": null,
   "id": "28d8b85c",
   "metadata": {},
   "outputs": [],
   "source": [
    "NT= (1,2,(\"pop\",\"rock\"),(3,4),(\"r\",\"p\"))\n",
    "NT[2][1]\n"
   ]
  },
  {
   "cell_type": "code",
   "execution_count": null,
   "id": "c06af9b7",
   "metadata": {},
   "outputs": [],
   "source": [
    "type(NT)"
   ]
  },
  {
   "cell_type": "code",
   "execution_count": null,
   "id": "a1cf60c1",
   "metadata": {},
   "outputs": [],
   "source": [
    "A=(1,2,3,4,5)\n",
    "len(A)"
   ]
  },
  {
   "cell_type": "code",
   "execution_count": null,
   "id": "e7a95fad",
   "metadata": {},
   "outputs": [],
   "source": [
    "B=[1,2,[3,'a'],[4,'b']]\n",
    "B[3][1]"
   ]
  },
  {
   "cell_type": "code",
   "execution_count": null,
   "id": "997a3c65",
   "metadata": {},
   "outputs": [],
   "source": [
    "[1,2,3]+[1,1,1]"
   ]
  },
  {
   "cell_type": "code",
   "execution_count": null,
   "id": "c120f246",
   "metadata": {},
   "outputs": [],
   "source": [
    " A = [1]\n",
    " A.append([2,3,4,5])"
   ]
  },
  {
   "cell_type": "code",
   "execution_count": null,
   "id": "1d8fd66e",
   "metadata": {},
   "outputs": [],
   "source": [
    "len(A)"
   ]
  },
  {
   "cell_type": "code",
   "execution_count": null,
   "id": "b0744879",
   "metadata": {},
   "outputs": [],
   "source": [
    "\"Hello Mike\".split()"
   ]
  },
  {
   "cell_type": "markdown",
   "id": "a410c4f2",
   "metadata": {},
   "source": [
    "#dictonary use curly braces"
   ]
  },
  {
   "cell_type": "code",
   "execution_count": null,
   "id": "c82f403d",
   "metadata": {},
   "outputs": [],
   "source": [
    "Dict={\"A\":1,\"B\":\"2\",\"C\":[3,3,3],\"D\":(4,4,4),'E':5,'F':6}\n",
    "import pandas as pd \n",
    "df= pd.DataFrame(Dict)\n",
    "df"
   ]
  },
  {
   "cell_type": "code",
   "execution_count": null,
   "id": "8b686b71",
   "metadata": {},
   "outputs": [],
   "source": [
    "Dict[\"D\"]"
   ]
  },
  {
   "cell_type": "code",
   "execution_count": null,
   "id": "eeef94ec",
   "metadata": {},
   "outputs": [],
   "source": [
    "help(Dict)"
   ]
  },
  {
   "cell_type": "code",
   "execution_count": null,
   "id": "4961e532",
   "metadata": {},
   "outputs": [],
   "source": [
    "type(set([1,2,3]))"
   ]
  },
  {
   "cell_type": "code",
   "execution_count": null,
   "id": "dc98f79d",
   "metadata": {},
   "outputs": [],
   "source": [
    "ser={1,21,13}\n",
    "ser"
   ]
  },
  {
   "cell_type": "code",
   "execution_count": null,
   "id": "f9ea6376",
   "metadata": {},
   "outputs": [],
   "source": [
    "help(ser)"
   ]
  },
  {
   "cell_type": "code",
   "execution_count": null,
   "id": "0d8f7d98",
   "metadata": {},
   "outputs": [],
   "source": [
    "{'a','b'} & {'a'}"
   ]
  },
  {
   "cell_type": "markdown",
   "id": "bd47f432",
   "metadata": {},
   "source": [
    "Learning Objectives\n",
    "In this lesson you will learn about:\n",
    "Classify conditions and branching by identifying structured scenarios with outputs.\n",
    "Understand loops by using visual examples and comparing them to tuples and lists.\n",
    "Understand functions by building a function using inputs and outputs.\n",
    "Explain objects and classes by identifying data types and creating a class."
   ]
  },
  {
   "cell_type": "code",
   "execution_count": null,
   "id": "34a2c373",
   "metadata": {},
   "outputs": [],
   "source": [
    "for x in ['A','B','C']:\n",
    "    print(x+'A')"
   ]
  },
  {
   "cell_type": "code",
   "execution_count": null,
   "id": "d3f25b2e",
   "metadata": {},
   "outputs": [],
   "source": [
    "for i,x in enumerate(['A','B','C']):\n",
    "    print(i,x)"
   ]
  },
  {
   "cell_type": "code",
   "execution_count": null,
   "id": "2a0d25ee",
   "metadata": {},
   "outputs": [],
   "source": [
    "def Print(A):\n",
    "\n",
    "    for a in A:\n",
    "\n",
    "        print(a+'1')\n",
    "\n",
    "Print(['a','b','c'])"
   ]
  },
  {
   "cell_type": "code",
   "execution_count": null,
   "id": "2c313103",
   "metadata": {},
   "outputs": [],
   "source": [
    "class Solution(object):\n",
    "    def reverseWords(self, s):\n",
    "        \"\"\"\n",
    "        :type s: a list of 1 length strings (List[str])\n",
    "        :rtype: nothing\n",
    "        \"\"\"\n",
    "        ls, pos = len(s), 0\n",
    "        if s is None or ls == 0:\n",
    "            return\n",
    "        self.reverse(s, 0, ls)\n",
    "        for i in range(ls + 1):\n",
    "            if i == ls or s[i] == ' ':\n",
    "                self.reverse(s, pos, i)\n",
    "                pos = i + 1\n",
    "\n",
    "    def reverse(self, array_s, begin, end):\n",
    "        for i in range((end - begin) / 2):\n",
    "            array_s[begin + i], array_s[end - i - 1] = array_s[end - i - 1], array_s[begin + i]"
   ]
  },
  {
   "cell_type": "code",
   "execution_count": null,
   "id": "acb9213d",
   "metadata": {},
   "outputs": [],
   "source": [
    "t= [\"my name is well\",\"mfy\"]\n",
    "t.reverse()"
   ]
  },
  {
   "cell_type": "code",
   "execution_count": null,
   "id": "4175c1af",
   "metadata": {},
   "outputs": [],
   "source": [
    "t\n"
   ]
  },
  {
   "cell_type": "code",
   "execution_count": null,
   "id": "7730feeb",
   "metadata": {},
   "outputs": [],
   "source": [
    "class analysedText(object):\n",
    "    \n",
    "    def __init__ (self, text):\n",
    "        # remove punctuation\n",
    "        formattedText = text.replace('.','').replace('!','').replace('?','').replace(',','')\n",
    "        \n",
    "        # make text lowercase\n",
    "        formattedText = formattedText.lower()\n",
    "        \n",
    "        self.fmtText = formattedText\n",
    "        \n",
    "    def freqAll(self):        \n",
    "        # split text into words\n",
    "        wordList = self.fmtText.split(' ')\n",
    "        \n",
    "        # Create dictionary\n",
    "        freqMap = {}\n",
    "        for word in set(wordList): # use set to remove duplicates in list\n",
    "            freqMap[word] = wordList.count(word)\n",
    "        \n",
    "        return freqMap\n",
    "    \n",
    "    def freqOf(self,word):\n",
    "        # get frequency map\n",
    "        freqDict = self.freqAll()\n",
    "        \n",
    "        if word in freqDict:\n",
    "            return freqDict[word]\n",
    "        else:\n",
    "            return 0"
   ]
  },
  {
   "cell_type": "code",
   "execution_count": null,
   "id": "61648a1e",
   "metadata": {},
   "outputs": [],
   "source": [
    "import sys\n",
    "\n",
    "sampleMap = {'eirmod': 1,'sed': 1, 'amet': 2, 'diam': 5, 'consetetur': 1, 'labore': 1, 'tempor': 1, 'dolor': 1, 'magna': 2, 'et': 3, 'nonumy': 1, 'ipsum': 1, 'lorem': 2}\n",
    "\n",
    "def testMsg(passed):\n",
    "    if passed:\n",
    "       return 'Test Passed'\n",
    "    else :\n",
    "       return 'Test Failed'\n",
    "\n",
    "print(\"Constructor: \")\n",
    "try:\n",
    "    samplePassage = analysedText(\"Lorem ipsum dolor! diam amet, consetetur Lorem magna. sed diam nonumy eirmod tempor. diam et labore? et diam magna. et diam amet.\")\n",
    "    print(testMsg(samplePassage.fmtText == \"lorem ipsum dolor diam amet consetetur lorem magna sed diam nonumy eirmod tempor diam et labore et diam magna et diam amet\"))\n",
    "except:\n",
    "    print(\"Error detected. Recheck your function \" )\n",
    "print(\"freqAll: \")\n",
    "try:\n",
    "    wordMap = samplePassage.freqAll()\n",
    "    print(testMsg(wordMap==sampleMap))\n",
    "except:\n",
    "    print(\"Error detected. Recheck your function \" )\n",
    "print(\"freqOf: \")\n",
    "try:\n",
    "    passed = True\n",
    "    for word in sampleMap:\n",
    "        if samplePassage.freqOf(word) != sampleMap[word]:\n",
    "            passed = False\n",
    "            break\n",
    "    print(testMsg(passed))\n",
    "    \n",
    "except:\n",
    "    print(\"Error detected. Recheck your function  \" )\n",
    "    "
   ]
  },
  {
   "cell_type": "code",
   "execution_count": null,
   "id": "38e99f6e",
   "metadata": {},
   "outputs": [],
   "source": [
    "a=[\"a\"]\n",
    "type(a)"
   ]
  },
  {
   "cell_type": "code",
   "execution_count": null,
   "id": "0ade8c7c",
   "metadata": {},
   "outputs": [],
   "source": [
    "class Robot:\n",
    "    #construct using __init__\n",
    "    def __init__(self,name, color, weight):\n",
    "        self.name=name\n",
    "        self.color=color\n",
    "        self.weight=weight\n",
    "        \n",
    "    def introduce_self(self):\n",
    "        print(\"my name is \"+ self.name)"
   ]
  },
  {
   "cell_type": "code",
   "execution_count": null,
   "id": "4791d884",
   "metadata": {
    "scrolled": true
   },
   "outputs": [],
   "source": [
    "r1=Robot(\"tom\",\"red\",30)\n",
    "r1.introduce_self()"
   ]
  },
  {
   "cell_type": "code",
   "execution_count": null,
   "id": "6d4f416c",
   "metadata": {},
   "outputs": [],
   "source": [
    "class ftext():\n",
    "    def __init__(self, text):\n",
    "        formttext=text.replace(\",\" ,\"\")\n",
    "        formttext=formttext.lower()\n",
    "        self.fmt=formttext\n",
    "\n",
    "    "
   ]
  },
  {
   "cell_type": "code",
   "execution_count": null,
   "id": "d8b80482",
   "metadata": {},
   "outputs": [],
   "source": [
    "namr=\"MY NAME\"\n",
    "namr.fmt()"
   ]
  },
  {
   "cell_type": "code",
   "execution_count": null,
   "id": "ec59d5c8",
   "metadata": {},
   "outputs": [],
   "source": [
    "v1=\"first\"\n",
    "v2=\"second\""
   ]
  },
  {
   "cell_type": "code",
   "execution_count": null,
   "id": "ccef0ad8",
   "metadata": {},
   "outputs": [],
   "source": [
    "temp1=v1\n",
    "temp2=v2\n"
   ]
  },
  {
   "cell_type": "code",
   "execution_count": null,
   "id": "cf8437c2",
   "metadata": {},
   "outputs": [],
   "source": [
    "v2=temp1\n",
    "v1=temp2\n",
    "print(v1, v2)"
   ]
  },
  {
   "cell_type": "code",
   "execution_count": null,
   "id": "eb0ec54c",
   "metadata": {},
   "outputs": [],
   "source": [
    "name=\"philip\"\n",
    "kg= 59\n",
    "height=1.78\n",
    "Bmi=kg/(height**2)\n"
   ]
  },
  {
   "cell_type": "code",
   "execution_count": null,
   "id": "afbbdd0d",
   "metadata": {},
   "outputs": [],
   "source": [
    "print(Bmi)"
   ]
  },
  {
   "cell_type": "code",
   "execution_count": null,
   "id": "dcbb5691",
   "metadata": {},
   "outputs": [],
   "source": [
    "if(Bmi>25):\n",
    "    print(name+\"is overweight\")\n",
    "elif(Bmi<25 and Bmi>19):\n",
    "    print(name+\"is okay\")\n",
    "else:\n",
    "    print(name+\"under\")"
   ]
  },
  {
   "cell_type": "code",
   "execution_count": null,
   "id": "18a01fd3",
   "metadata": {},
   "outputs": [],
   "source": [
    "def Bm(height,weight):\n",
    "    return weight/(height**2)\n"
   ]
  },
  {
   "cell_type": "code",
   "execution_count": null,
   "id": "247bd2bb",
   "metadata": {},
   "outputs": [],
   "source": [
    "na=Bm(1.8,60)\n",
    "print(na)"
   ]
  },
  {
   "cell_type": "code",
   "execution_count": null,
   "id": "96be1f13",
   "metadata": {},
   "outputs": [],
   "source": [
    "def convertTomiles(Km):\n",
    "    miles=Km*0.6214\n",
    "    return miles\n",
    "\n"
   ]
  },
  {
   "cell_type": "code",
   "execution_count": null,
   "id": "f3cc5201",
   "metadata": {},
   "outputs": [],
   "source": [
    "wea=convertTomiles(10)"
   ]
  },
  {
   "cell_type": "code",
   "execution_count": null,
   "id": "8f083ecc",
   "metadata": {},
   "outputs": [],
   "source": [
    "print(wea)"
   ]
  },
  {
   "cell_type": "code",
   "execution_count": null,
   "id": "a2c5d825",
   "metadata": {},
   "outputs": [],
   "source": [
    "b=[\"bana\",\"orane\",\"aple\"]\n"
   ]
  },
  {
   "cell_type": "code",
   "execution_count": null,
   "id": "83243287",
   "metadata": {},
   "outputs": [],
   "source": [
    "help(b)"
   ]
  },
  {
   "cell_type": "code",
   "execution_count": null,
   "id": "49be9ee8",
   "metadata": {},
   "outputs": [],
   "source": [
    "temp1=b[-1]"
   ]
  },
  {
   "cell_type": "code",
   "execution_count": null,
   "id": "77930af8",
   "metadata": {},
   "outputs": [],
   "source": [
    "temp2=b[0]"
   ]
  },
  {
   "cell_type": "code",
   "execution_count": null,
   "id": "aec1a2d3",
   "metadata": {},
   "outputs": [],
   "source": [
    "b[-1]=temp2\n",
    "b[0]=temp1"
   ]
  },
  {
   "cell_type": "code",
   "execution_count": null,
   "id": "497ec368",
   "metadata": {},
   "outputs": [],
   "source": [
    "b"
   ]
  },
  {
   "cell_type": "code",
   "execution_count": null,
   "id": "3331c864",
   "metadata": {},
   "outputs": [],
   "source": [
    "b[0],b[-1]=b[-1],b[0]\n",
    "b"
   ]
  },
  {
   "cell_type": "code",
   "execution_count": null,
   "id": "99e056d8",
   "metadata": {},
   "outputs": [],
   "source": [
    "for i in b:\n",
    "    print (i)"
   ]
  },
  {
   "cell_type": "code",
   "execution_count": null,
   "id": "35e39686",
   "metadata": {},
   "outputs": [],
   "source": [
    "total=0\n",
    "for j in range(1,100):\n",
    "    if (j%3==0 and j%5==0):\n",
    "        print (j)\n",
    "        total+=j\n",
    "print (total)"
   ]
  },
  {
   "cell_type": "code",
   "execution_count": null,
   "id": "98d41eee",
   "metadata": {},
   "outputs": [],
   "source": [
    "given_list=list(range(-5,10))"
   ]
  },
  {
   "cell_type": "code",
   "execution_count": null,
   "id": "e47e9f64",
   "metadata": {},
   "outputs": [],
   "source": [
    "given_list\n",
    "total2=0"
   ]
  },
  {
   "cell_type": "code",
   "execution_count": null,
   "id": "9f662a49",
   "metadata": {},
   "outputs": [],
   "source": [
    "given_list.reverse()"
   ]
  },
  {
   "cell_type": "code",
   "execution_count": null,
   "id": "322fa1c6",
   "metadata": {},
   "outputs": [],
   "source": [
    "for i in given_list:\n",
    "    if i >0:\n",
    "        total2+=i\n",
    "print (total2)"
   ]
  },
  {
   "cell_type": "code",
   "execution_count": null,
   "id": "f124b772",
   "metadata": {},
   "outputs": [],
   "source": [
    "j=len(given_list)-1\n",
    "total3=0\n",
    "while j >=0 and  given_list[j]<0:\n",
    "    total3+=given_list[j]\n",
    "    print(j)\n",
    "    j-=1\n",
    "print(total3)"
   ]
  },
  {
   "cell_type": "code",
   "execution_count": null,
   "id": "fcea31b2",
   "metadata": {},
   "outputs": [],
   "source": [
    "print(given_list)"
   ]
  },
  {
   "cell_type": "code",
   "execution_count": null,
   "id": "5e12b4aa",
   "metadata": {},
   "outputs": [],
   "source": [
    "given_list3 = [-1, -2, -3, -5, -7]\n",
    "total6 = 0\n",
    "i = len(given_list3) - 1\n",
    "while i >= 0 and given_list3[i] <0:\n",
    "    total6 += given_list3[i]\n",
    "    i -= 1\n",
    "print(total6)\n"
   ]
  },
  {
   "cell_type": "code",
   "execution_count": 2,
   "id": "5eb30e2d",
   "metadata": {},
   "outputs": [],
   "source": [
    "new_list=list(range(-15,20))"
   ]
  },
  {
   "cell_type": "code",
   "execution_count": 4,
   "id": "3f37f092",
   "metadata": {},
   "outputs": [],
   "source": [
    "new_list.reverse()"
   ]
  },
  {
   "cell_type": "code",
   "execution_count": 6,
   "id": "2746cc11",
   "metadata": {},
   "outputs": [
    {
     "name": "stdout",
     "output_type": "stream",
     "text": [
      "190\n"
     ]
    }
   ],
   "source": [
    "total4=0\n",
    "for i in new_list:\n",
    "    if(i>=0):\n",
    "        total4+=i \n",
    "print(total4)"
   ]
  },
  {
   "cell_type": "code",
   "execution_count": 5,
   "id": "c107b033",
   "metadata": {},
   "outputs": [
    {
     "name": "stdout",
     "output_type": "stream",
     "text": [
      "190\n"
     ]
    }
   ],
   "source": [
    "total5=0\n",
    "k=0\n",
    "while new_list[k]>0:\n",
    "    total5+=new_list[k]\n",
    "    k+=1\n",
    "print(total5)"
   ]
  },
  {
   "cell_type": "code",
   "execution_count": 8,
   "id": "ecb7fe68",
   "metadata": {},
   "outputs": [],
   "source": [
    "new_dict={\"name\": \"gg\",\"age\":12}"
   ]
  },
  {
   "cell_type": "code",
   "execution_count": 9,
   "id": "9ccfcbe1",
   "metadata": {},
   "outputs": [
    {
     "data": {
      "text/plain": [
       "{'name': 'gg', 'age': 12}"
      ]
     },
     "execution_count": 9,
     "metadata": {},
     "output_type": "execute_result"
    }
   ],
   "source": [
    "new_dict"
   ]
  },
  {
   "cell_type": "code",
   "execution_count": 10,
   "id": "eb1a9663",
   "metadata": {
    "scrolled": false
   },
   "outputs": [
    {
     "name": "stdout",
     "output_type": "stream",
     "text": [
      "Help on dict object:\n",
      "\n",
      "class dict(object)\n",
      " |  dict() -> new empty dictionary\n",
      " |  dict(mapping) -> new dictionary initialized from a mapping object's\n",
      " |      (key, value) pairs\n",
      " |  dict(iterable) -> new dictionary initialized as if via:\n",
      " |      d = {}\n",
      " |      for k, v in iterable:\n",
      " |          d[k] = v\n",
      " |  dict(**kwargs) -> new dictionary initialized with the name=value pairs\n",
      " |      in the keyword argument list.  For example:  dict(one=1, two=2)\n",
      " |  \n",
      " |  Built-in subclasses:\n",
      " |      StgDict\n",
      " |  \n",
      " |  Methods defined here:\n",
      " |  \n",
      " |  __contains__(self, key, /)\n",
      " |      True if the dictionary has the specified key, else False.\n",
      " |  \n",
      " |  __delitem__(self, key, /)\n",
      " |      Delete self[key].\n",
      " |  \n",
      " |  __eq__(self, value, /)\n",
      " |      Return self==value.\n",
      " |  \n",
      " |  __ge__(self, value, /)\n",
      " |      Return self>=value.\n",
      " |  \n",
      " |  __getattribute__(self, name, /)\n",
      " |      Return getattr(self, name).\n",
      " |  \n",
      " |  __getitem__(...)\n",
      " |      x.__getitem__(y) <==> x[y]\n",
      " |  \n",
      " |  __gt__(self, value, /)\n",
      " |      Return self>value.\n",
      " |  \n",
      " |  __init__(self, /, *args, **kwargs)\n",
      " |      Initialize self.  See help(type(self)) for accurate signature.\n",
      " |  \n",
      " |  __ior__(self, value, /)\n",
      " |      Return self|=value.\n",
      " |  \n",
      " |  __iter__(self, /)\n",
      " |      Implement iter(self).\n",
      " |  \n",
      " |  __le__(self, value, /)\n",
      " |      Return self<=value.\n",
      " |  \n",
      " |  __len__(self, /)\n",
      " |      Return len(self).\n",
      " |  \n",
      " |  __lt__(self, value, /)\n",
      " |      Return self<value.\n",
      " |  \n",
      " |  __ne__(self, value, /)\n",
      " |      Return self!=value.\n",
      " |  \n",
      " |  __or__(self, value, /)\n",
      " |      Return self|value.\n",
      " |  \n",
      " |  __repr__(self, /)\n",
      " |      Return repr(self).\n",
      " |  \n",
      " |  __reversed__(self, /)\n",
      " |      Return a reverse iterator over the dict keys.\n",
      " |  \n",
      " |  __ror__(self, value, /)\n",
      " |      Return value|self.\n",
      " |  \n",
      " |  __setitem__(self, key, value, /)\n",
      " |      Set self[key] to value.\n",
      " |  \n",
      " |  __sizeof__(...)\n",
      " |      D.__sizeof__() -> size of D in memory, in bytes\n",
      " |  \n",
      " |  clear(...)\n",
      " |      D.clear() -> None.  Remove all items from D.\n",
      " |  \n",
      " |  copy(...)\n",
      " |      D.copy() -> a shallow copy of D\n",
      " |  \n",
      " |  get(self, key, default=None, /)\n",
      " |      Return the value for key if key is in the dictionary, else default.\n",
      " |  \n",
      " |  items(...)\n",
      " |      D.items() -> a set-like object providing a view on D's items\n",
      " |  \n",
      " |  keys(...)\n",
      " |      D.keys() -> a set-like object providing a view on D's keys\n",
      " |  \n",
      " |  pop(...)\n",
      " |      D.pop(k[,d]) -> v, remove specified key and return the corresponding value.\n",
      " |      \n",
      " |      If key is not found, default is returned if given, otherwise KeyError is raised\n",
      " |  \n",
      " |  popitem(self, /)\n",
      " |      Remove and return a (key, value) pair as a 2-tuple.\n",
      " |      \n",
      " |      Pairs are returned in LIFO (last-in, first-out) order.\n",
      " |      Raises KeyError if the dict is empty.\n",
      " |  \n",
      " |  setdefault(self, key, default=None, /)\n",
      " |      Insert key with a value of default if key is not in the dictionary.\n",
      " |      \n",
      " |      Return the value for key if key is in the dictionary, else default.\n",
      " |  \n",
      " |  update(...)\n",
      " |      D.update([E, ]**F) -> None.  Update D from dict/iterable E and F.\n",
      " |      If E is present and has a .keys() method, then does:  for k in E: D[k] = E[k]\n",
      " |      If E is present and lacks a .keys() method, then does:  for k, v in E: D[k] = v\n",
      " |      In either case, this is followed by: for k in F:  D[k] = F[k]\n",
      " |  \n",
      " |  values(...)\n",
      " |      D.values() -> an object providing a view on D's values\n",
      " |  \n",
      " |  ----------------------------------------------------------------------\n",
      " |  Class methods defined here:\n",
      " |  \n",
      " |  __class_getitem__(...) from builtins.type\n",
      " |      See PEP 585\n",
      " |  \n",
      " |  fromkeys(iterable, value=None, /) from builtins.type\n",
      " |      Create a new dictionary with keys from iterable and values set to value.\n",
      " |  \n",
      " |  ----------------------------------------------------------------------\n",
      " |  Static methods defined here:\n",
      " |  \n",
      " |  __new__(*args, **kwargs) from builtins.type\n",
      " |      Create and return a new object.  See help(type) for accurate signature.\n",
      " |  \n",
      " |  ----------------------------------------------------------------------\n",
      " |  Data and other attributes defined here:\n",
      " |  \n",
      " |  __hash__ = None\n",
      "\n"
     ]
    }
   ],
   "source": [
    "help(new_dict)"
   ]
  },
  {
   "cell_type": "code",
   "execution_count": 14,
   "id": "42b86b78",
   "metadata": {},
   "outputs": [],
   "source": [
    "class Person:\n",
    "    def __init__(self, name, personality, isSitting):\n",
    "        self.name=name\n",
    "        self.personality=personality\n",
    "        self.isSitting=isSitting\n",
    "    def sit_down(self):\n",
    "        self.isSitting=True\n",
    "        \n",
    "    def stand_up(self):\n",
    "        self.isSitting=False"
   ]
  },
  {
   "cell_type": "code",
   "execution_count": 15,
   "id": "f4d5c265",
   "metadata": {},
   "outputs": [],
   "source": [
    "class Robot:\n",
    "    def __init__(self,gname,color,weight):\n",
    "        self.gname=gname\n",
    "        self.color=color\n",
    "        self.weight=weight\n",
    "    def introduce_self(self):\n",
    "        print(\"my name is\"+self.gname)\n",
    "        "
   ]
  },
  {
   "cell_type": "code",
   "execution_count": 16,
   "id": "95e8883f",
   "metadata": {},
   "outputs": [
    {
     "name": "stdout",
     "output_type": "stream",
     "text": [
      "my name istom\n"
     ]
    }
   ],
   "source": [
    "r1=Robot(\"tom\",\"blue\",12)\n",
    "r1.introduce_self()"
   ]
  },
  {
   "cell_type": "code",
   "execution_count": 19,
   "id": "01943b2a",
   "metadata": {},
   "outputs": [],
   "source": [
    "next_list=list(range(0,10,2))"
   ]
  },
  {
   "cell_type": "code",
   "execution_count": 21,
   "id": "f990c82a",
   "metadata": {},
   "outputs": [
    {
     "name": "stdout",
     "output_type": "stream",
     "text": [
      "Help on list object:\n",
      "\n",
      "class list(object)\n",
      " |  list(iterable=(), /)\n",
      " |  \n",
      " |  Built-in mutable sequence.\n",
      " |  \n",
      " |  If no argument is given, the constructor creates a new empty list.\n",
      " |  The argument must be an iterable if specified.\n",
      " |  \n",
      " |  Methods defined here:\n",
      " |  \n",
      " |  __add__(self, value, /)\n",
      " |      Return self+value.\n",
      " |  \n",
      " |  __contains__(self, key, /)\n",
      " |      Return key in self.\n",
      " |  \n",
      " |  __delitem__(self, key, /)\n",
      " |      Delete self[key].\n",
      " |  \n",
      " |  __eq__(self, value, /)\n",
      " |      Return self==value.\n",
      " |  \n",
      " |  __ge__(self, value, /)\n",
      " |      Return self>=value.\n",
      " |  \n",
      " |  __getattribute__(self, name, /)\n",
      " |      Return getattr(self, name).\n",
      " |  \n",
      " |  __getitem__(...)\n",
      " |      x.__getitem__(y) <==> x[y]\n",
      " |  \n",
      " |  __gt__(self, value, /)\n",
      " |      Return self>value.\n",
      " |  \n",
      " |  __iadd__(self, value, /)\n",
      " |      Implement self+=value.\n",
      " |  \n",
      " |  __imul__(self, value, /)\n",
      " |      Implement self*=value.\n",
      " |  \n",
      " |  __init__(self, /, *args, **kwargs)\n",
      " |      Initialize self.  See help(type(self)) for accurate signature.\n",
      " |  \n",
      " |  __iter__(self, /)\n",
      " |      Implement iter(self).\n",
      " |  \n",
      " |  __le__(self, value, /)\n",
      " |      Return self<=value.\n",
      " |  \n",
      " |  __len__(self, /)\n",
      " |      Return len(self).\n",
      " |  \n",
      " |  __lt__(self, value, /)\n",
      " |      Return self<value.\n",
      " |  \n",
      " |  __mul__(self, value, /)\n",
      " |      Return self*value.\n",
      " |  \n",
      " |  __ne__(self, value, /)\n",
      " |      Return self!=value.\n",
      " |  \n",
      " |  __repr__(self, /)\n",
      " |      Return repr(self).\n",
      " |  \n",
      " |  __reversed__(self, /)\n",
      " |      Return a reverse iterator over the list.\n",
      " |  \n",
      " |  __rmul__(self, value, /)\n",
      " |      Return value*self.\n",
      " |  \n",
      " |  __setitem__(self, key, value, /)\n",
      " |      Set self[key] to value.\n",
      " |  \n",
      " |  __sizeof__(self, /)\n",
      " |      Return the size of the list in memory, in bytes.\n",
      " |  \n",
      " |  append(self, object, /)\n",
      " |      Append object to the end of the list.\n",
      " |  \n",
      " |  clear(self, /)\n",
      " |      Remove all items from list.\n",
      " |  \n",
      " |  copy(self, /)\n",
      " |      Return a shallow copy of the list.\n",
      " |  \n",
      " |  count(self, value, /)\n",
      " |      Return number of occurrences of value.\n",
      " |  \n",
      " |  extend(self, iterable, /)\n",
      " |      Extend list by appending elements from the iterable.\n",
      " |  \n",
      " |  index(self, value, start=0, stop=9223372036854775807, /)\n",
      " |      Return first index of value.\n",
      " |      \n",
      " |      Raises ValueError if the value is not present.\n",
      " |  \n",
      " |  insert(self, index, object, /)\n",
      " |      Insert object before index.\n",
      " |  \n",
      " |  pop(self, index=-1, /)\n",
      " |      Remove and return item at index (default last).\n",
      " |      \n",
      " |      Raises IndexError if list is empty or index is out of range.\n",
      " |  \n",
      " |  remove(self, value, /)\n",
      " |      Remove first occurrence of value.\n",
      " |      \n",
      " |      Raises ValueError if the value is not present.\n",
      " |  \n",
      " |  reverse(self, /)\n",
      " |      Reverse *IN PLACE*.\n",
      " |  \n",
      " |  sort(self, /, *, key=None, reverse=False)\n",
      " |      Sort the list in ascending order and return None.\n",
      " |      \n",
      " |      The sort is in-place (i.e. the list itself is modified) and stable (i.e. the\n",
      " |      order of two equal elements is maintained).\n",
      " |      \n",
      " |      If a key function is given, apply it once to each list item and sort them,\n",
      " |      ascending or descending, according to their function values.\n",
      " |      \n",
      " |      The reverse flag can be set to sort in descending order.\n",
      " |  \n",
      " |  ----------------------------------------------------------------------\n",
      " |  Class methods defined here:\n",
      " |  \n",
      " |  __class_getitem__(...) from builtins.type\n",
      " |      See PEP 585\n",
      " |  \n",
      " |  ----------------------------------------------------------------------\n",
      " |  Static methods defined here:\n",
      " |  \n",
      " |  __new__(*args, **kwargs) from builtins.type\n",
      " |      Create and return a new object.  See help(type) for accurate signature.\n",
      " |  \n",
      " |  ----------------------------------------------------------------------\n",
      " |  Data and other attributes defined here:\n",
      " |  \n",
      " |  __hash__ = None\n",
      "\n"
     ]
    }
   ],
   "source": [
    "help(next_list)"
   ]
  },
  {
   "cell_type": "code",
   "execution_count": 27,
   "id": "bb520b6b",
   "metadata": {},
   "outputs": [],
   "source": [
    "c=[]\n",
    "for p in next_list:\n",
    "    c.append(p*2)"
   ]
  },
  {
   "cell_type": "code",
   "execution_count": 28,
   "id": "b4ddda4a",
   "metadata": {},
   "outputs": [
    {
     "data": {
      "text/plain": [
       "[0, 4, 8, 12, 16]"
      ]
     },
     "execution_count": 28,
     "metadata": {},
     "output_type": "execute_result"
    }
   ],
   "source": [
    "c"
   ]
  },
  {
   "cell_type": "code",
   "execution_count": 31,
   "id": "ce99f92e",
   "metadata": {},
   "outputs": [],
   "source": [
    "d=[q**2 for q in c]"
   ]
  },
  {
   "cell_type": "code",
   "execution_count": 32,
   "id": "be66a08f",
   "metadata": {},
   "outputs": [
    {
     "data": {
      "text/plain": [
       "[0, 16, 64, 144, 256]"
      ]
     },
     "execution_count": 32,
     "metadata": {},
     "output_type": "execute_result"
    }
   ],
   "source": [
    "d"
   ]
  },
  {
   "cell_type": "code",
   "execution_count": 33,
   "id": "6a18618e",
   "metadata": {},
   "outputs": [],
   "source": [
    "given_list2=[1,3,4,1,3]"
   ]
  },
  {
   "cell_type": "code",
   "execution_count": 34,
   "id": "018d67ad",
   "metadata": {},
   "outputs": [],
   "source": [
    "new_set2=set()"
   ]
  },
  {
   "cell_type": "code",
   "execution_count": 35,
   "id": "351a160a",
   "metadata": {},
   "outputs": [
    {
     "name": "stdout",
     "output_type": "stream",
     "text": [
      "{1, 3, 4}\n"
     ]
    }
   ],
   "source": [
    "for m in given_list2:\n",
    "    new_set2.add(m)\n",
    "print(new_set2)"
   ]
  },
  {
   "cell_type": "code",
   "execution_count": 37,
   "id": "6d6406de",
   "metadata": {},
   "outputs": [
    {
     "name": "stdout",
     "output_type": "stream",
     "text": [
      "8\n"
     ]
    }
   ],
   "source": [
    "tota7=0\n",
    "for g in new_set2:\n",
    "    tota7+=g\n",
    "print(tota7)"
   ]
  },
  {
   "cell_type": "code",
   "execution_count": 38,
   "id": "0924e3a2",
   "metadata": {},
   "outputs": [],
   "source": [
    "import numpy as np"
   ]
  },
  {
   "cell_type": "code",
   "execution_count": 39,
   "id": "6203ef04",
   "metadata": {},
   "outputs": [
    {
     "data": {
      "text/plain": [
       "array([0, 1, 2, 3, 4, 5, 6, 7, 8, 9])"
      ]
     },
     "execution_count": 39,
     "metadata": {},
     "output_type": "execute_result"
    }
   ],
   "source": [
    "a=np.array(range(0,10))\n",
    "a"
   ]
  },
  {
   "cell_type": "code",
   "execution_count": 41,
   "id": "f602fd7a",
   "metadata": {},
   "outputs": [],
   "source": [
    "import pandas as pd\n"
   ]
  },
  {
   "cell_type": "code",
   "execution_count": 54,
   "id": "8a15a352",
   "metadata": {},
   "outputs": [],
   "source": [
    "message = pd.read_json(\"C:/tmp/contact.json\")"
   ]
  },
  {
   "cell_type": "code",
   "execution_count": 55,
   "id": "acfe5c37",
   "metadata": {},
   "outputs": [
    {
     "data": {
      "text/html": [
       "<div>\n",
       "<style scoped>\n",
       "    .dataframe tbody tr th:only-of-type {\n",
       "        vertical-align: middle;\n",
       "    }\n",
       "\n",
       "    .dataframe tbody tr th {\n",
       "        vertical-align: top;\n",
       "    }\n",
       "\n",
       "    .dataframe thead th {\n",
       "        text-align: right;\n",
       "    }\n",
       "</style>\n",
       "<table border=\"1\" class=\"dataframe\">\n",
       "  <thead>\n",
       "    <tr style=\"text-align: right;\">\n",
       "      <th></th>\n",
       "      <th>email</th>\n",
       "      <th>name</th>\n",
       "      <th>number</th>\n",
       "      <th>phoneNumber</th>\n",
       "    </tr>\n",
       "  </thead>\n",
       "  <tbody>\n",
       "    <tr>\n",
       "      <th>0</th>\n",
       "      <td>*133#</td>\n",
       "      <td>Balance Enq</td>\n",
       "      <td>2</td>\n",
       "      <td>*133#</td>\n",
       "    </tr>\n",
       "    <tr>\n",
       "      <th>1</th>\n",
       "      <td>*133#</td>\n",
       "      <td>Balance Enq</td>\n",
       "      <td>872</td>\n",
       "      <td>*133#</td>\n",
       "    </tr>\n",
       "    <tr>\n",
       "      <th>2</th>\n",
       "      <td>+1 (647) 718-3055</td>\n",
       "      <td>Tareq</td>\n",
       "      <td>242</td>\n",
       "      <td>+1 (647) 718-3055</td>\n",
       "    </tr>\n",
       "    <tr>\n",
       "      <th>3</th>\n",
       "      <td>+1 (647) 885-0960</td>\n",
       "      <td>Aunty Susan</td>\n",
       "      <td>634</td>\n",
       "      <td>+1 (647) 885-0960</td>\n",
       "    </tr>\n",
       "    <tr>\n",
       "      <th>4</th>\n",
       "      <td>+1 (647) 895-1726</td>\n",
       "      <td>Keith Gg</td>\n",
       "      <td>247</td>\n",
       "      <td>+1 (647) 895-1726</td>\n",
       "    </tr>\n",
       "    <tr>\n",
       "      <th>...</th>\n",
       "      <td>...</td>\n",
       "      <td>...</td>\n",
       "      <td>...</td>\n",
       "      <td>...</td>\n",
       "    </tr>\n",
       "    <tr>\n",
       "      <th>401</th>\n",
       "      <td>111</td>\n",
       "      <td>Call Center</td>\n",
       "      <td>877</td>\n",
       "      <td>111</td>\n",
       "    </tr>\n",
       "    <tr>\n",
       "      <th>402</th>\n",
       "      <td>555</td>\n",
       "      <td>Voice Mail</td>\n",
       "      <td>4</td>\n",
       "      <td>555</td>\n",
       "    </tr>\n",
       "    <tr>\n",
       "      <th>403</th>\n",
       "      <td>555</td>\n",
       "      <td>Voice Mail</td>\n",
       "      <td>882</td>\n",
       "      <td>555</td>\n",
       "    </tr>\n",
       "    <tr>\n",
       "      <th>404</th>\n",
       "      <td>‪+254 702 577688‬</td>\n",
       "      <td>Njoki</td>\n",
       "      <td>750</td>\n",
       "      <td>‪+254 702 577688‬</td>\n",
       "    </tr>\n",
       "    <tr>\n",
       "      <th>405</th>\n",
       "      <td>‪+254 735 700274‬</td>\n",
       "      <td>Cyn</td>\n",
       "      <td>716</td>\n",
       "      <td>‪+254 735 700274‬</td>\n",
       "    </tr>\n",
       "  </tbody>\n",
       "</table>\n",
       "<p>406 rows × 4 columns</p>\n",
       "</div>"
      ],
      "text/plain": [
       "                 email         name  number        phoneNumber\n",
       "0                *133#  Balance Enq       2              *133#\n",
       "1                *133#  Balance Enq     872              *133#\n",
       "2    +1 (647) 718-3055        Tareq     242  +1 (647) 718-3055\n",
       "3    +1 (647) 885-0960  Aunty Susan     634  +1 (647) 885-0960\n",
       "4    +1 (647) 895-1726     Keith Gg     247  +1 (647) 895-1726\n",
       "..                 ...          ...     ...                ...\n",
       "401                111  Call Center     877                111\n",
       "402                555   Voice Mail       4                555\n",
       "403                555   Voice Mail     882                555\n",
       "404  ‪+254 702 577688‬        Njoki     750  ‪+254 702 577688‬\n",
       "405  ‪+254 735 700274‬          Cyn     716  ‪+254 735 700274‬\n",
       "\n",
       "[406 rows x 4 columns]"
      ]
     },
     "execution_count": 55,
     "metadata": {},
     "output_type": "execute_result"
    }
   ],
   "source": [
    "message"
   ]
  },
  {
   "cell_type": "code",
   "execution_count": 56,
   "id": "8cf0a544",
   "metadata": {},
   "outputs": [
    {
     "data": {
      "text/html": [
       "<div>\n",
       "<style scoped>\n",
       "    .dataframe tbody tr th:only-of-type {\n",
       "        vertical-align: middle;\n",
       "    }\n",
       "\n",
       "    .dataframe tbody tr th {\n",
       "        vertical-align: top;\n",
       "    }\n",
       "\n",
       "    .dataframe thead th {\n",
       "        text-align: right;\n",
       "    }\n",
       "</style>\n",
       "<table border=\"1\" class=\"dataframe\">\n",
       "  <thead>\n",
       "    <tr style=\"text-align: right;\">\n",
       "      <th></th>\n",
       "      <th>email</th>\n",
       "      <th>name</th>\n",
       "      <th>number</th>\n",
       "      <th>phoneNumber</th>\n",
       "    </tr>\n",
       "  </thead>\n",
       "  <tbody>\n",
       "    <tr>\n",
       "      <th>0</th>\n",
       "      <td>*133#</td>\n",
       "      <td>Balance Enq</td>\n",
       "      <td>2</td>\n",
       "      <td>*133#</td>\n",
       "    </tr>\n",
       "    <tr>\n",
       "      <th>1</th>\n",
       "      <td>*133#</td>\n",
       "      <td>Balance Enq</td>\n",
       "      <td>872</td>\n",
       "      <td>*133#</td>\n",
       "    </tr>\n",
       "    <tr>\n",
       "      <th>2</th>\n",
       "      <td>+1 (647) 718-3055</td>\n",
       "      <td>Tareq</td>\n",
       "      <td>242</td>\n",
       "      <td>+1 (647) 718-3055</td>\n",
       "    </tr>\n",
       "    <tr>\n",
       "      <th>3</th>\n",
       "      <td>+1 (647) 885-0960</td>\n",
       "      <td>Aunty Susan</td>\n",
       "      <td>634</td>\n",
       "      <td>+1 (647) 885-0960</td>\n",
       "    </tr>\n",
       "    <tr>\n",
       "      <th>4</th>\n",
       "      <td>+1 (647) 895-1726</td>\n",
       "      <td>Keith Gg</td>\n",
       "      <td>247</td>\n",
       "      <td>+1 (647) 895-1726</td>\n",
       "    </tr>\n",
       "    <tr>\n",
       "      <th>5</th>\n",
       "      <td>+13024387186</td>\n",
       "      <td>Aunty Ann</td>\n",
       "      <td>629</td>\n",
       "      <td>+13024387186</td>\n",
       "    </tr>\n",
       "    <tr>\n",
       "      <th>6</th>\n",
       "      <td>+13024387186</td>\n",
       "      <td>Aunty Ann</td>\n",
       "      <td>1238</td>\n",
       "      <td>+13024387186</td>\n",
       "    </tr>\n",
       "    <tr>\n",
       "      <th>7</th>\n",
       "      <td>+16477183055</td>\n",
       "      <td>Tareq</td>\n",
       "      <td>1258</td>\n",
       "      <td>+16477183055</td>\n",
       "    </tr>\n",
       "    <tr>\n",
       "      <th>8</th>\n",
       "      <td>+16478850960</td>\n",
       "      <td>Aunty Susan</td>\n",
       "      <td>1713</td>\n",
       "      <td>+16478850960</td>\n",
       "    </tr>\n",
       "    <tr>\n",
       "      <th>9</th>\n",
       "      <td>+16478951726</td>\n",
       "      <td>Keith Gg</td>\n",
       "      <td>1068</td>\n",
       "      <td>+16478951726</td>\n",
       "    </tr>\n",
       "  </tbody>\n",
       "</table>\n",
       "</div>"
      ],
      "text/plain": [
       "               email         name  number        phoneNumber\n",
       "0              *133#  Balance Enq       2              *133#\n",
       "1              *133#  Balance Enq     872              *133#\n",
       "2  +1 (647) 718-3055        Tareq     242  +1 (647) 718-3055\n",
       "3  +1 (647) 885-0960  Aunty Susan     634  +1 (647) 885-0960\n",
       "4  +1 (647) 895-1726     Keith Gg     247  +1 (647) 895-1726\n",
       "5       +13024387186    Aunty Ann     629       +13024387186\n",
       "6       +13024387186    Aunty Ann    1238       +13024387186\n",
       "7       +16477183055        Tareq    1258       +16477183055\n",
       "8       +16478850960  Aunty Susan    1713       +16478850960\n",
       "9       +16478951726     Keith Gg    1068       +16478951726"
      ]
     },
     "execution_count": 56,
     "metadata": {},
     "output_type": "execute_result"
    }
   ],
   "source": [
    "message.head(10)"
   ]
  },
  {
   "cell_type": "code",
   "execution_count": 57,
   "id": "9dd5c267",
   "metadata": {},
   "outputs": [
    {
     "name": "stdout",
     "output_type": "stream",
     "text": [
      "<class 'pandas.core.frame.DataFrame'>\n",
      "RangeIndex: 406 entries, 0 to 405\n",
      "Data columns (total 4 columns):\n",
      " #   Column       Non-Null Count  Dtype \n",
      "---  ------       --------------  ----- \n",
      " 0   email        406 non-null    object\n",
      " 1   name         406 non-null    object\n",
      " 2   number       406 non-null    int64 \n",
      " 3   phoneNumber  406 non-null    object\n",
      "dtypes: int64(1), object(3)\n",
      "memory usage: 12.8+ KB\n"
     ]
    }
   ],
   "source": [
    "message.info()"
   ]
  },
  {
   "cell_type": "code",
   "execution_count": 64,
   "id": "ad10e20d",
   "metadata": {},
   "outputs": [],
   "source": [
    "num= message[[\"name\",\"number\"]]"
   ]
  },
  {
   "cell_type": "code",
   "execution_count": 65,
   "id": "200ef586",
   "metadata": {},
   "outputs": [
    {
     "data": {
      "text/html": [
       "<div>\n",
       "<style scoped>\n",
       "    .dataframe tbody tr th:only-of-type {\n",
       "        vertical-align: middle;\n",
       "    }\n",
       "\n",
       "    .dataframe tbody tr th {\n",
       "        vertical-align: top;\n",
       "    }\n",
       "\n",
       "    .dataframe thead th {\n",
       "        text-align: right;\n",
       "    }\n",
       "</style>\n",
       "<table border=\"1\" class=\"dataframe\">\n",
       "  <thead>\n",
       "    <tr style=\"text-align: right;\">\n",
       "      <th></th>\n",
       "      <th>name</th>\n",
       "      <th>number</th>\n",
       "    </tr>\n",
       "  </thead>\n",
       "  <tbody>\n",
       "    <tr>\n",
       "      <th>0</th>\n",
       "      <td>Balance Enq</td>\n",
       "      <td>2</td>\n",
       "    </tr>\n",
       "    <tr>\n",
       "      <th>1</th>\n",
       "      <td>Balance Enq</td>\n",
       "      <td>872</td>\n",
       "    </tr>\n",
       "    <tr>\n",
       "      <th>2</th>\n",
       "      <td>Tareq</td>\n",
       "      <td>242</td>\n",
       "    </tr>\n",
       "    <tr>\n",
       "      <th>3</th>\n",
       "      <td>Aunty Susan</td>\n",
       "      <td>634</td>\n",
       "    </tr>\n",
       "    <tr>\n",
       "      <th>4</th>\n",
       "      <td>Keith Gg</td>\n",
       "      <td>247</td>\n",
       "    </tr>\n",
       "    <tr>\n",
       "      <th>...</th>\n",
       "      <td>...</td>\n",
       "      <td>...</td>\n",
       "    </tr>\n",
       "    <tr>\n",
       "      <th>401</th>\n",
       "      <td>Call Center</td>\n",
       "      <td>877</td>\n",
       "    </tr>\n",
       "    <tr>\n",
       "      <th>402</th>\n",
       "      <td>Voice Mail</td>\n",
       "      <td>4</td>\n",
       "    </tr>\n",
       "    <tr>\n",
       "      <th>403</th>\n",
       "      <td>Voice Mail</td>\n",
       "      <td>882</td>\n",
       "    </tr>\n",
       "    <tr>\n",
       "      <th>404</th>\n",
       "      <td>Njoki</td>\n",
       "      <td>750</td>\n",
       "    </tr>\n",
       "    <tr>\n",
       "      <th>405</th>\n",
       "      <td>Cyn</td>\n",
       "      <td>716</td>\n",
       "    </tr>\n",
       "  </tbody>\n",
       "</table>\n",
       "<p>406 rows × 2 columns</p>\n",
       "</div>"
      ],
      "text/plain": [
       "            name  number\n",
       "0    Balance Enq       2\n",
       "1    Balance Enq     872\n",
       "2          Tareq     242\n",
       "3    Aunty Susan     634\n",
       "4       Keith Gg     247\n",
       "..           ...     ...\n",
       "401  Call Center     877\n",
       "402   Voice Mail       4\n",
       "403   Voice Mail     882\n",
       "404        Njoki     750\n",
       "405          Cyn     716\n",
       "\n",
       "[406 rows x 2 columns]"
      ]
     },
     "execution_count": 65,
     "metadata": {},
     "output_type": "execute_result"
    }
   ],
   "source": [
    "num"
   ]
  },
  {
   "cell_type": "code",
   "execution_count": 70,
   "id": "133be151",
   "metadata": {},
   "outputs": [],
   "source": [
    "import matplotlib.pyplot as plt"
   ]
  },
  {
   "cell_type": "code",
   "execution_count": 81,
   "id": "4e8e6101",
   "metadata": {},
   "outputs": [],
   "source": [
    "weather= pd.read_csv(\"E:/100daysofcoding/measurements.csv\",index_col='local', parse_dates=True)"
   ]
  },
  {
   "cell_type": "code",
   "execution_count": 86,
   "id": "c47c322b",
   "metadata": {},
   "outputs": [
    {
     "data": {
      "text/html": [
       "<div>\n",
       "<style scoped>\n",
       "    .dataframe tbody tr th:only-of-type {\n",
       "        vertical-align: middle;\n",
       "    }\n",
       "\n",
       "    .dataframe tbody tr th {\n",
       "        vertical-align: top;\n",
       "    }\n",
       "\n",
       "    .dataframe thead th {\n",
       "        text-align: right;\n",
       "    }\n",
       "</style>\n",
       "<table border=\"1\" class=\"dataframe\">\n",
       "  <thead>\n",
       "    <tr style=\"text-align: right;\">\n",
       "      <th></th>\n",
       "      <th>locationId</th>\n",
       "      <th>location</th>\n",
       "      <th>city</th>\n",
       "      <th>country</th>\n",
       "      <th>utc</th>\n",
       "      <th>parameter</th>\n",
       "      <th>value</th>\n",
       "      <th>unit</th>\n",
       "      <th>latitude</th>\n",
       "      <th>longitude</th>\n",
       "    </tr>\n",
       "    <tr>\n",
       "      <th>local</th>\n",
       "      <th></th>\n",
       "      <th></th>\n",
       "      <th></th>\n",
       "      <th></th>\n",
       "      <th></th>\n",
       "      <th></th>\n",
       "      <th></th>\n",
       "      <th></th>\n",
       "      <th></th>\n",
       "      <th></th>\n",
       "    </tr>\n",
       "  </thead>\n",
       "  <tbody>\n",
       "    <tr>\n",
       "      <th>2022-11-16 08:00:00+02:00</th>\n",
       "      <td>8326</td>\n",
       "      <td>US Diplomatic Post: Khartoum Embassy</td>\n",
       "      <td>Khartoum</td>\n",
       "      <td>SD</td>\n",
       "      <td>2022-11-16T06:00:00+00:00</td>\n",
       "      <td>pm25</td>\n",
       "      <td>-999</td>\n",
       "      <td>µg/m³</td>\n",
       "      <td>15.526226</td>\n",
       "      <td>32.607622</td>\n",
       "    </tr>\n",
       "    <tr>\n",
       "      <th>2022-11-16 07:00:00+02:00</th>\n",
       "      <td>8326</td>\n",
       "      <td>US Diplomatic Post: Khartoum Embassy</td>\n",
       "      <td>Khartoum</td>\n",
       "      <td>SD</td>\n",
       "      <td>2022-11-16T05:00:00+00:00</td>\n",
       "      <td>pm25</td>\n",
       "      <td>-999</td>\n",
       "      <td>µg/m³</td>\n",
       "      <td>15.526226</td>\n",
       "      <td>32.607622</td>\n",
       "    </tr>\n",
       "    <tr>\n",
       "      <th>2022-11-16 06:00:00+02:00</th>\n",
       "      <td>8326</td>\n",
       "      <td>US Diplomatic Post: Khartoum Embassy</td>\n",
       "      <td>Khartoum</td>\n",
       "      <td>SD</td>\n",
       "      <td>2022-11-16T04:00:00+00:00</td>\n",
       "      <td>pm25</td>\n",
       "      <td>-999</td>\n",
       "      <td>µg/m³</td>\n",
       "      <td>15.526226</td>\n",
       "      <td>32.607622</td>\n",
       "    </tr>\n",
       "    <tr>\n",
       "      <th>2022-11-16 05:00:00+02:00</th>\n",
       "      <td>8326</td>\n",
       "      <td>US Diplomatic Post: Khartoum Embassy</td>\n",
       "      <td>Khartoum</td>\n",
       "      <td>SD</td>\n",
       "      <td>2022-11-16T03:00:00+00:00</td>\n",
       "      <td>pm25</td>\n",
       "      <td>-999</td>\n",
       "      <td>µg/m³</td>\n",
       "      <td>15.526226</td>\n",
       "      <td>32.607622</td>\n",
       "    </tr>\n",
       "    <tr>\n",
       "      <th>2022-11-16 04:00:00+02:00</th>\n",
       "      <td>8326</td>\n",
       "      <td>US Diplomatic Post: Khartoum Embassy</td>\n",
       "      <td>Khartoum</td>\n",
       "      <td>SD</td>\n",
       "      <td>2022-11-16T02:00:00+00:00</td>\n",
       "      <td>pm25</td>\n",
       "      <td>-999</td>\n",
       "      <td>µg/m³</td>\n",
       "      <td>15.526226</td>\n",
       "      <td>32.607622</td>\n",
       "    </tr>\n",
       "    <tr>\n",
       "      <th>...</th>\n",
       "      <td>...</td>\n",
       "      <td>...</td>\n",
       "      <td>...</td>\n",
       "      <td>...</td>\n",
       "      <td>...</td>\n",
       "      <td>...</td>\n",
       "      <td>...</td>\n",
       "      <td>...</td>\n",
       "      <td>...</td>\n",
       "      <td>...</td>\n",
       "    </tr>\n",
       "    <tr>\n",
       "      <th>2020-08-03 03:00:00+02:00</th>\n",
       "      <td>8326</td>\n",
       "      <td>US Diplomatic Post: Khartoum Embassy</td>\n",
       "      <td>Khartoum</td>\n",
       "      <td>SD</td>\n",
       "      <td>2020-08-03T01:00:00+00:00</td>\n",
       "      <td>pm25</td>\n",
       "      <td>7</td>\n",
       "      <td>µg/m³</td>\n",
       "      <td>15.526226</td>\n",
       "      <td>32.607622</td>\n",
       "    </tr>\n",
       "    <tr>\n",
       "      <th>2020-08-03 02:00:00+02:00</th>\n",
       "      <td>8326</td>\n",
       "      <td>US Diplomatic Post: Khartoum Embassy</td>\n",
       "      <td>Khartoum</td>\n",
       "      <td>SD</td>\n",
       "      <td>2020-08-03T00:00:00+00:00</td>\n",
       "      <td>pm25</td>\n",
       "      <td>4</td>\n",
       "      <td>µg/m³</td>\n",
       "      <td>15.526226</td>\n",
       "      <td>32.607622</td>\n",
       "    </tr>\n",
       "    <tr>\n",
       "      <th>2020-08-03 01:00:00+02:00</th>\n",
       "      <td>8326</td>\n",
       "      <td>US Diplomatic Post: Khartoum Embassy</td>\n",
       "      <td>Khartoum</td>\n",
       "      <td>SD</td>\n",
       "      <td>2020-08-02T23:00:00+00:00</td>\n",
       "      <td>pm25</td>\n",
       "      <td>16</td>\n",
       "      <td>µg/m³</td>\n",
       "      <td>15.526226</td>\n",
       "      <td>32.607622</td>\n",
       "    </tr>\n",
       "    <tr>\n",
       "      <th>2020-08-03 00:00:00+02:00</th>\n",
       "      <td>8326</td>\n",
       "      <td>US Diplomatic Post: Khartoum Embassy</td>\n",
       "      <td>Khartoum</td>\n",
       "      <td>SD</td>\n",
       "      <td>2020-08-02T22:00:00+00:00</td>\n",
       "      <td>pm25</td>\n",
       "      <td>23</td>\n",
       "      <td>µg/m³</td>\n",
       "      <td>15.526226</td>\n",
       "      <td>32.607622</td>\n",
       "    </tr>\n",
       "    <tr>\n",
       "      <th>2020-08-02 23:00:00+02:00</th>\n",
       "      <td>8326</td>\n",
       "      <td>US Diplomatic Post: Khartoum Embassy</td>\n",
       "      <td>Khartoum</td>\n",
       "      <td>SD</td>\n",
       "      <td>2020-08-02T21:00:00+00:00</td>\n",
       "      <td>pm25</td>\n",
       "      <td>30</td>\n",
       "      <td>µg/m³</td>\n",
       "      <td>15.526226</td>\n",
       "      <td>32.607622</td>\n",
       "    </tr>\n",
       "  </tbody>\n",
       "</table>\n",
       "<p>18472 rows × 10 columns</p>\n",
       "</div>"
      ],
      "text/plain": [
       "                           locationId                              location  \\\n",
       "local                                                                         \n",
       "2022-11-16 08:00:00+02:00        8326  US Diplomatic Post: Khartoum Embassy   \n",
       "2022-11-16 07:00:00+02:00        8326  US Diplomatic Post: Khartoum Embassy   \n",
       "2022-11-16 06:00:00+02:00        8326  US Diplomatic Post: Khartoum Embassy   \n",
       "2022-11-16 05:00:00+02:00        8326  US Diplomatic Post: Khartoum Embassy   \n",
       "2022-11-16 04:00:00+02:00        8326  US Diplomatic Post: Khartoum Embassy   \n",
       "...                               ...                                   ...   \n",
       "2020-08-03 03:00:00+02:00        8326  US Diplomatic Post: Khartoum Embassy   \n",
       "2020-08-03 02:00:00+02:00        8326  US Diplomatic Post: Khartoum Embassy   \n",
       "2020-08-03 01:00:00+02:00        8326  US Diplomatic Post: Khartoum Embassy   \n",
       "2020-08-03 00:00:00+02:00        8326  US Diplomatic Post: Khartoum Embassy   \n",
       "2020-08-02 23:00:00+02:00        8326  US Diplomatic Post: Khartoum Embassy   \n",
       "\n",
       "                               city country                        utc  \\\n",
       "local                                                                    \n",
       "2022-11-16 08:00:00+02:00  Khartoum      SD  2022-11-16T06:00:00+00:00   \n",
       "2022-11-16 07:00:00+02:00  Khartoum      SD  2022-11-16T05:00:00+00:00   \n",
       "2022-11-16 06:00:00+02:00  Khartoum      SD  2022-11-16T04:00:00+00:00   \n",
       "2022-11-16 05:00:00+02:00  Khartoum      SD  2022-11-16T03:00:00+00:00   \n",
       "2022-11-16 04:00:00+02:00  Khartoum      SD  2022-11-16T02:00:00+00:00   \n",
       "...                             ...     ...                        ...   \n",
       "2020-08-03 03:00:00+02:00  Khartoum      SD  2020-08-03T01:00:00+00:00   \n",
       "2020-08-03 02:00:00+02:00  Khartoum      SD  2020-08-03T00:00:00+00:00   \n",
       "2020-08-03 01:00:00+02:00  Khartoum      SD  2020-08-02T23:00:00+00:00   \n",
       "2020-08-03 00:00:00+02:00  Khartoum      SD  2020-08-02T22:00:00+00:00   \n",
       "2020-08-02 23:00:00+02:00  Khartoum      SD  2020-08-02T21:00:00+00:00   \n",
       "\n",
       "                          parameter  value   unit   latitude  longitude  \n",
       "local                                                                    \n",
       "2022-11-16 08:00:00+02:00      pm25   -999  µg/m³  15.526226  32.607622  \n",
       "2022-11-16 07:00:00+02:00      pm25   -999  µg/m³  15.526226  32.607622  \n",
       "2022-11-16 06:00:00+02:00      pm25   -999  µg/m³  15.526226  32.607622  \n",
       "2022-11-16 05:00:00+02:00      pm25   -999  µg/m³  15.526226  32.607622  \n",
       "2022-11-16 04:00:00+02:00      pm25   -999  µg/m³  15.526226  32.607622  \n",
       "...                             ...    ...    ...        ...        ...  \n",
       "2020-08-03 03:00:00+02:00      pm25      7  µg/m³  15.526226  32.607622  \n",
       "2020-08-03 02:00:00+02:00      pm25      4  µg/m³  15.526226  32.607622  \n",
       "2020-08-03 01:00:00+02:00      pm25     16  µg/m³  15.526226  32.607622  \n",
       "2020-08-03 00:00:00+02:00      pm25     23  µg/m³  15.526226  32.607622  \n",
       "2020-08-02 23:00:00+02:00      pm25     30  µg/m³  15.526226  32.607622  \n",
       "\n",
       "[18472 rows x 10 columns]"
      ]
     },
     "execution_count": 86,
     "metadata": {},
     "output_type": "execute_result"
    }
   ],
   "source": [
    "\n",
    "weather"
   ]
  },
  {
   "cell_type": "code",
   "execution_count": 94,
   "id": "a69d976f",
   "metadata": {},
   "outputs": [
    {
     "ename": "ValueError",
     "evalue": "time data '' does not match format '%d/%m/%y %H:%M:%S'",
     "output_type": "error",
     "traceback": [
      "\u001b[1;31m---------------------------------------------------------------------------\u001b[0m",
      "\u001b[1;31mValueError\u001b[0m                                Traceback (most recent call last)",
      "Input \u001b[1;32mIn [94]\u001b[0m, in \u001b[0;36m<cell line: 3>\u001b[1;34m()\u001b[0m\n\u001b[0;32m      1\u001b[0m \u001b[38;5;28;01mfrom\u001b[39;00m \u001b[38;5;21;01mdatetime\u001b[39;00m \u001b[38;5;28;01mimport\u001b[39;00m datetime\n\u001b[0;32m      2\u001b[0m date\u001b[38;5;241m=\u001b[39m\u001b[38;5;124m'\u001b[39m\u001b[38;5;124m'\u001b[39m\n\u001b[1;32m----> 3\u001b[0m weather[\u001b[38;5;124m'\u001b[39m\u001b[38;5;124mlocal\u001b[39m\u001b[38;5;124m'\u001b[39m]\u001b[38;5;241m=\u001b[39m \u001b[43mdatetime\u001b[49m\u001b[38;5;241;43m.\u001b[39;49m\u001b[43mstrptime\u001b[49m\u001b[43m(\u001b[49m\u001b[43mdate\u001b[49m\u001b[43m,\u001b[49m\u001b[38;5;124;43m'\u001b[39;49m\u001b[38;5;132;43;01m%d\u001b[39;49;00m\u001b[38;5;124;43m/\u001b[39;49m\u001b[38;5;124;43m%\u001b[39;49m\u001b[38;5;124;43mm/\u001b[39;49m\u001b[38;5;124;43m%\u001b[39;49m\u001b[38;5;124;43my \u001b[39;49m\u001b[38;5;124;43m%\u001b[39;49m\u001b[38;5;124;43mH:\u001b[39;49m\u001b[38;5;124;43m%\u001b[39;49m\u001b[38;5;124;43mM:\u001b[39;49m\u001b[38;5;124;43m%\u001b[39;49m\u001b[38;5;124;43mS\u001b[39;49m\u001b[38;5;124;43m'\u001b[39;49m\u001b[43m \u001b[49m\u001b[43m)\u001b[49m\n",
      "File \u001b[1;32m~\\anaconda3\\lib\\_strptime.py:568\u001b[0m, in \u001b[0;36m_strptime_datetime\u001b[1;34m(cls, data_string, format)\u001b[0m\n\u001b[0;32m    565\u001b[0m \u001b[38;5;28;01mdef\u001b[39;00m \u001b[38;5;21m_strptime_datetime\u001b[39m(\u001b[38;5;28mcls\u001b[39m, data_string, \u001b[38;5;28mformat\u001b[39m\u001b[38;5;241m=\u001b[39m\u001b[38;5;124m\"\u001b[39m\u001b[38;5;132;01m%a\u001b[39;00m\u001b[38;5;124m \u001b[39m\u001b[38;5;124m%\u001b[39m\u001b[38;5;124mb \u001b[39m\u001b[38;5;132;01m%d\u001b[39;00m\u001b[38;5;124m \u001b[39m\u001b[38;5;124m%\u001b[39m\u001b[38;5;124mH:\u001b[39m\u001b[38;5;124m%\u001b[39m\u001b[38;5;124mM:\u001b[39m\u001b[38;5;124m%\u001b[39m\u001b[38;5;124mS \u001b[39m\u001b[38;5;124m%\u001b[39m\u001b[38;5;124mY\u001b[39m\u001b[38;5;124m\"\u001b[39m):\n\u001b[0;32m    566\u001b[0m     \u001b[38;5;124;03m\"\"\"Return a class cls instance based on the input string and the\u001b[39;00m\n\u001b[0;32m    567\u001b[0m \u001b[38;5;124;03m    format string.\"\"\"\u001b[39;00m\n\u001b[1;32m--> 568\u001b[0m     tt, fraction, gmtoff_fraction \u001b[38;5;241m=\u001b[39m \u001b[43m_strptime\u001b[49m\u001b[43m(\u001b[49m\u001b[43mdata_string\u001b[49m\u001b[43m,\u001b[49m\u001b[43m \u001b[49m\u001b[38;5;28;43mformat\u001b[39;49m\u001b[43m)\u001b[49m\n\u001b[0;32m    569\u001b[0m     tzname, gmtoff \u001b[38;5;241m=\u001b[39m tt[\u001b[38;5;241m-\u001b[39m\u001b[38;5;241m2\u001b[39m:]\n\u001b[0;32m    570\u001b[0m     args \u001b[38;5;241m=\u001b[39m tt[:\u001b[38;5;241m6\u001b[39m] \u001b[38;5;241m+\u001b[39m (fraction,)\n",
      "File \u001b[1;32m~\\anaconda3\\lib\\_strptime.py:349\u001b[0m, in \u001b[0;36m_strptime\u001b[1;34m(data_string, format)\u001b[0m\n\u001b[0;32m    347\u001b[0m found \u001b[38;5;241m=\u001b[39m format_regex\u001b[38;5;241m.\u001b[39mmatch(data_string)\n\u001b[0;32m    348\u001b[0m \u001b[38;5;28;01mif\u001b[39;00m \u001b[38;5;129;01mnot\u001b[39;00m found:\n\u001b[1;32m--> 349\u001b[0m     \u001b[38;5;28;01mraise\u001b[39;00m \u001b[38;5;167;01mValueError\u001b[39;00m(\u001b[38;5;124m\"\u001b[39m\u001b[38;5;124mtime data \u001b[39m\u001b[38;5;132;01m%r\u001b[39;00m\u001b[38;5;124m does not match format \u001b[39m\u001b[38;5;132;01m%r\u001b[39;00m\u001b[38;5;124m\"\u001b[39m \u001b[38;5;241m%\u001b[39m\n\u001b[0;32m    350\u001b[0m                      (data_string, \u001b[38;5;28mformat\u001b[39m))\n\u001b[0;32m    351\u001b[0m \u001b[38;5;28;01mif\u001b[39;00m \u001b[38;5;28mlen\u001b[39m(data_string) \u001b[38;5;241m!=\u001b[39m found\u001b[38;5;241m.\u001b[39mend():\n\u001b[0;32m    352\u001b[0m     \u001b[38;5;28;01mraise\u001b[39;00m \u001b[38;5;167;01mValueError\u001b[39;00m(\u001b[38;5;124m\"\u001b[39m\u001b[38;5;124munconverted data remains: \u001b[39m\u001b[38;5;132;01m%s\u001b[39;00m\u001b[38;5;124m\"\u001b[39m \u001b[38;5;241m%\u001b[39m\n\u001b[0;32m    353\u001b[0m                       data_string[found\u001b[38;5;241m.\u001b[39mend():])\n",
      "\u001b[1;31mValueError\u001b[0m: time data '' does not match format '%d/%m/%y %H:%M:%S'"
     ]
    }
   ],
   "source": [
    "from datetime import datetime\n",
    "date=''\n",
    "weather['local']= datetime.strptime(date,'%d/%m/%y %H:%M:%S' )"
   ]
  },
  {
   "cell_type": "code",
   "execution_count": 83,
   "id": "f47c6a05",
   "metadata": {},
   "outputs": [
    {
     "data": {
      "text/plain": [
       "<AxesSubplot:xlabel='local'>"
      ]
     },
     "execution_count": 83,
     "metadata": {},
     "output_type": "execute_result"
    },
    {
     "data": {
      "image/png": "[encoded data removed]",
      "text/plain": [
       "<Figure size 432x288 with 1 Axes>"
      ]
     },
     "metadata": {
      "needs_background": "light"
     },
     "output_type": "display_data"
    }
   ],
   "source": [
    "weather.plot()"
   ]
  },
  {
   "cell_type": "code",
   "execution_count": 80,
   "id": "5dd971d9",
   "metadata": {},
   "outputs": [
    {
     "data": {
      "text/plain": [
       "<AxesSubplot:xlabel='utc'>"
      ]
     },
     "execution_count": 80,
     "metadata": {},
     "output_type": "execute_result"
    },
    {
     "data": {
      "image/png": "[encoded data removed]",
      "text/plain": [
       "<Figure size 432x288 with 1 Axes>"
      ]
     },
     "metadata": {
      "needs_background": "light"
     },
     "output_type": "display_data"
    }
   ],
   "source": [
    "weather.plot(x=\"utc\", y=\"value\")"
   ]
  },
  {
   "cell_type": "code",
   "execution_count": null,
   "id": "452e6268",
   "metadata": {},
   "outputs": [],
   "source": []
  }
 ],
 "metadata": {
  "kernelspec": {
   "display_name": "Python 3 (ipykernel)",
   "language": "python",
   "name": "python3"
  },
  "language_info": {
   "codemirror_mode": {
    "name": "ipython",
    "version": 3
   },
   "file_extension": ".py",
   "mimetype": "text/x-python",
   "name": "python",
   "nbconvert_exporter": "python",
   "pygments_lexer": "ipython3",
   "version": "3.9.12"
  }
 },
 "nbformat": 4,
 "nbformat_minor": 5
}
